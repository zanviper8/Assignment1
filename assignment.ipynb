{
 "cells": [
  {
   "cell_type": "code",
   "execution_count": 1,
   "id": "2c1d290c-7604-4f6b-8575-8d634aa5ba18",
   "metadata": {},
   "outputs": [
    {
     "data": {
      "text/plain": [
       "tuple"
      ]
     },
     "execution_count": 1,
     "metadata": {},
     "output_type": "execute_result"
    }
   ],
   "source": [
    "'''Q1. Create one variable containing following type of data:\n",
    "(i) string\n",
    "(ii) list\n",
    "(iii) float\n",
    "(iv) tuple'''\n",
    "##Answer Below\n",
    "\n",
    "str = 'Shyam'\n",
    "type(str)\n",
    "\n",
    "l = [99,88,77,66,55]\n",
    "type(l)\n",
    "\n",
    "flt = 99.999999999\n",
    "type(flt)\n",
    "\n",
    "t = (9,8,7,6,5,4,3,2)\n",
    "type(t)"
   ]
  },
  {
   "cell_type": "code",
   "execution_count": 42,
   "id": "2e355137-d895-4138-9b69-6731ef0237f9",
   "metadata": {},
   "outputs": [
    {
     "data": {
      "text/plain": [
       "int"
      ]
     },
     "execution_count": 42,
     "metadata": {},
     "output_type": "execute_result"
    }
   ],
   "source": [
    "'''Q2. Given are some following variables containing data:\n",
    "(i) var1 = ‘ '\n",
    "(ii) var2 = ‘[ DS , ML , Python]’\n",
    "(iii) var3 = [ ‘DS’ , ’ML’ , ‘Python’ ]\n",
    "(iv) var4 = 1.\n",
    "What will be the data type of the above given variable.'''\n",
    "##Answer Below\n",
    "\n",
    "\n",
    "var1 = '' # String\n",
    "var2 = '[ DS, ML, Python]' # String\n",
    "var3 = [ 'DS' , 'ML' , 'Python' ] #List\n",
    "var4 = 1 # Integer"
   ]
  },
  {
   "cell_type": "code",
   "execution_count": null,
   "id": "9cceefce-adc0-4f68-b081-25e648ce538f",
   "metadata": {},
   "outputs": [],
   "source": [
    "'''Q.3. Explain the use of the following operators using an example:\n",
    "(i) /\n",
    "(ii) %\n",
    "(iii) //\n",
    "(iv) ** '''\n",
    "##Answer Below\n",
    "\n",
    "(i) The / operator is used for division in Python. \n",
    "When used with two operands, it returns the quotient (result of division) as a floating-point number.\n",
    "\n",
    "(ii) The % operator is used for modulus (remainder) in Python. \n",
    "When used with two operands, it returns the remainder of the division operation.\n",
    "\n",
    "(iii) The // operator is used for floor division in Python. \n",
    "When used with two operands, it returns the quotient (result of division), rounded down to the nearest integer.\n",
    "\n",
    "(iv) The ** operator is used for exponentiation (raising a number to a power) in Python. \n",
    "When used with two operands, it returns the result of raising the first operand to the power of the second operand."
   ]
  },
  {
   "cell_type": "code",
   "execution_count": 49,
   "id": "efca3164-a7d1-48f0-9714-b143ec1d5f8b",
   "metadata": {},
   "outputs": [
    {
     "name": "stdout",
     "output_type": "stream",
     "text": [
      "9\n",
      "<class 'int'>\n",
      "12\n",
      "<class 'int'>\n",
      "8\n",
      "<class 'int'>\n",
      "Shyam\n",
      "<class 'str'>\n",
      "Sahana\n",
      "<class 'str'>\n",
      "True\n",
      "<class 'bool'>\n",
      "99.9\n",
      "<class 'float'>\n",
      "2023\n",
      "<class 'int'>\n",
      "PWskills\n",
      "<class 'str'>\n",
      "DataScience\n",
      "<class 'str'>\n"
     ]
    }
   ],
   "source": [
    "'''Q4. Create a list of length 10 of your choice containing multiple types of data. Using for loop print the\n",
    "element and its data type.'''\n",
    "##Answer Below\n",
    "\n",
    "my_list = [9,12,8,'Shyam','Sahana',True,99.9,2023,'PWskills','DataScience']\n",
    "for i in my_list:\n",
    "    print(i)\n",
    "    print(type(i))\n"
   ]
  },
  {
   "cell_type": "code",
   "execution_count": 22,
   "id": "92196da8-fb35-48d0-b8a4-353cada0a4d1",
   "metadata": {},
   "outputs": [
    {
     "name": "stdin",
     "output_type": "stream",
     "text": [
      "Enter the value of A 10\n",
      "Enter the value of B 10\n"
     ]
    },
    {
     "name": "stdout",
     "output_type": "stream",
     "text": [
      "a is divisible by b 1 times\n"
     ]
    }
   ],
   "source": [
    "'''Q5. Using a while loop, verify if the number A is purely divisible by number B and if so then how many\n",
    "times it can be divisible.'''\n",
    "##Answer Below\n",
    "\n",
    "a = int(input('Enter the value of A'))\n",
    "b = int(input('Enter the value of B'))\n",
    "count = 0\n",
    "while a%b == 0 :\n",
    "    count += 1\n",
    "    a = a/b\n",
    "print('a is divisible by b',count, 'times')"
   ]
  },
  {
   "cell_type": "code",
   "execution_count": 28,
   "id": "d4dd73cb-edfe-4043-b88c-8feacc9bb483",
   "metadata": {},
   "outputs": [
    {
     "name": "stdout",
     "output_type": "stream",
     "text": [
      "1 is not divisible by 3\n",
      "2 is not divisible by 3\n",
      "3 is divisible by 3\n",
      "4 is not divisible by 3\n",
      "5 is not divisible by 3\n",
      "6 is divisible by 3\n",
      "7 is not divisible by 3\n",
      "8 is not divisible by 3\n",
      "9 is divisible by 3\n",
      "10 is not divisible by 3\n",
      "11 is not divisible by 3\n",
      "12 is divisible by 3\n",
      "13 is not divisible by 3\n",
      "14 is not divisible by 3\n",
      "15 is divisible by 3\n",
      "16 is not divisible by 3\n",
      "17 is not divisible by 3\n",
      "18 is divisible by 3\n",
      "19 is not divisible by 3\n",
      "20 is not divisible by 3\n",
      "21 is divisible by 3\n",
      "22 is not divisible by 3\n",
      "23 is not divisible by 3\n",
      "24 is divisible by 3\n",
      "25 is not divisible by 3\n"
     ]
    }
   ],
   "source": [
    "'''Q6. Create a list containing 25 int type data. Using for loop and if-else condition print if the element is\n",
    "divisible by 3 or not.'''\n",
    "##Answer Below\n",
    "\n",
    "l = list(range(1,26))\n",
    "for i in l:\n",
    "    if i % 3 == 0:\n",
    "        print(i, 'is divisible by 3')\n",
    "    else:\n",
    "        print(i, 'is not divisible by 3')\n"
   ]
  },
  {
   "cell_type": "code",
   "execution_count": null,
   "id": "afe2ebd3-b845-4372-8360-2b71c7a0b0ed",
   "metadata": {},
   "outputs": [],
   "source": [
    "'''Q7. What do you understand about mutable and immutable data types? Give examples for both showing\n",
    "this property.'''\n",
    "##Answer Below\n",
    "\n",
    "Mutable data types are those that can be modified after they have been created. \n",
    "This means that the value of the object can be changed without creating a new object. \n",
    "Examples of mutable data types in Python include lists, sets, and dictionaries.\n",
    "\n",
    "Example:\n",
    "my_list = [1, 2, 3, 4]\n",
    "my_list[0] = 5\n",
    "print(my_list)  # Output: [5, 2, 3, 4]\n",
    "\n",
    "On the other hand, immutable data types are those that cannot be modified after they have been created. \n",
    "This means that the value of the object cannot be changed, and if we want to modify the object, we need to create a new object. \n",
    "Examples of immutable data types in Python include integers, floats, strings, and tuples.\n",
    "\n",
    "Example:\n",
    "    "
   ]
  }
 ],
 "metadata": {
  "kernelspec": {
   "display_name": "Python 3 (ipykernel)",
   "language": "python",
   "name": "python3"
  },
  "language_info": {
   "codemirror_mode": {
    "name": "ipython",
    "version": 3
   },
   "file_extension": ".py",
   "mimetype": "text/x-python",
   "name": "python",
   "nbconvert_exporter": "python",
   "pygments_lexer": "ipython3",
   "version": "3.10.6"
  }
 },
 "nbformat": 4,
 "nbformat_minor": 5
}
